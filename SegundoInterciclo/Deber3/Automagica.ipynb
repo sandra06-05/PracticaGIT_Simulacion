{
 "cells": [
  {
   "cell_type": "markdown",
   "metadata": {},
   "source": [
    "## Deber 3 - Automágiza\n",
    "<div style=\"text-align: right\"> _Por: S. Peñaranda J._ </div>\n",
    "\n",
    "Realizar métodos en automagica de:\n",
    "+ PowerPoint \n",
    "+ Outlook Application"
   ]
  },
  {
   "cell_type": "code",
   "execution_count": 1,
   "metadata": {},
   "outputs": [],
   "source": [
    "##Importamos las librerias\n",
    "from automagica import *"
   ]
  },
  {
   "cell_type": "markdown",
   "metadata": {},
   "source": [
    "### Power Point"
   ]
  },
  {
   "cell_type": "markdown",
   "metadata": {},
   "source": [
    "Abrimos PowerPoint y escribimos un texto"
   ]
  },
  {
   "cell_type": "code",
   "execution_count": 2,
   "metadata": {},
   "outputs": [
    {
     "name": "stdout",
     "output_type": "stream",
     "text": [
      "Texto agregado\n"
     ]
    }
   ],
   "source": [
    "##Abrimos PowerPoint\n",
    "pptx = PowerPoint()\n",
    "\n",
    "##Creamos una diapositiva\n",
    "pptx.add_slide()\n",
    "\n",
    "##Escribimos un texto\n",
    "pptx.add_text(text='UPS - Simulación', index=1)\n",
    "print(\"Texto agregado\")\n",
    "\n",
    "##Creamos otra diapositiva con su texto\n",
    "pptx.add_slide()\n",
    "pptx.add_text(text='PowerPont con Automagica', index=2)"
   ]
  },
  {
   "cell_type": "markdown",
   "metadata": {},
   "source": [
    "Guardar la presentación creada, como PDF y en su formato PowerPoint"
   ]
  },
  {
   "cell_type": "code",
   "execution_count": 3,
   "metadata": {},
   "outputs": [
    {
     "name": "stdout",
     "output_type": "stream",
     "text": [
      "Guardado\n"
     ]
    },
    {
     "data": {
      "text/plain": [
       "'C:\\\\Users\\\\USER\\\\PresentacionSimulacion.pdf'"
      ]
     },
     "execution_count": 3,
     "metadata": {},
     "output_type": "execute_result"
    }
   ],
   "source": [
    "##Guardamos como PowerPoint\n",
    "powerPoint = home_path('PresentacionSimulacion.pptx')\n",
    "\n",
    "##Guardamos como PDF\n",
    "pdf = home_path('PresentacionSimulacion.pdf')\n",
    "\n",
    "##GUARDAMOS LOS ARCHIVOS EN SUS FORMATOS\n",
    "pptx.save_as(powerPoint)\n",
    "pptx.export_to_pdf(pdf)\n",
    "print(\"Guardado\")\n",
    "\n",
    "##Cerramos \n",
    "pptx.quit()\n",
    "\n",
    "## Abrimos el documento\n",
    "open_file(pdf)"
   ]
  },
  {
   "cell_type": "markdown",
   "metadata": {},
   "source": [
    "### Outlook, importamos librerias"
   ]
  },
  {
   "cell_type": "code",
   "execution_count": 4,
   "metadata": {},
   "outputs": [],
   "source": [
    "## Iniciando outlook\n",
    "outlook = Outlook()"
   ]
  },
  {
   "cell_type": "markdown",
   "metadata": {},
   "source": [
    "Seleccionamos un **contacto** al que deseamos enviar el correo, el **asunto** y el **contenido**"
   ]
  },
  {
   "cell_type": "code",
   "execution_count": 5,
   "metadata": {},
   "outputs": [],
   "source": [
    "outlook.send_mail('sandra-14-2012@hotmail.com', subject='Simulacion AUTOMAGICA', body='Enviando correo con automagica, en simulacion')"
   ]
  },
  {
   "cell_type": "markdown",
   "metadata": {},
   "source": [
    "## Conclusiones\n",
    "- La herramienta **automagica**, como se muestra en estos breves ejemplos es de uso sencillo, y no requiere grandes cantidades de código para realizar acciones un poco complejas.\n",
    "\n",
    "## Recomendaciones\n",
    "- Tener instalado previamente la herramienta de automagica **pip install automagica**.\n",
    "- Para realizar el envio de un correo se debe primero en el ordenador, iniciada una sesión para poder dar los permisos necesarios."
   ]
  },
  {
   "cell_type": "markdown",
   "metadata": {},
   "source": [
    "## Referencias\n",
    "+ PowerPoint\n",
    "https://readthedocs.org/projects/automagica/downloads/pdf/latest/ , https://automagica.readthedocs.io/activities.html#powerpoint-application, https://github.com/automagica/automagica\n",
    "+ Outlook\n",
    "https://readthedocs.org/projects/automagica/downloads/pdf/latest/"
   ]
  }
 ],
 "metadata": {
  "kernelspec": {
   "display_name": "Python 3",
   "language": "python",
   "name": "python3"
  },
  "language_info": {
   "codemirror_mode": {
    "name": "ipython",
    "version": 3
   },
   "file_extension": ".py",
   "mimetype": "text/x-python",
   "name": "python",
   "nbconvert_exporter": "python",
   "pygments_lexer": "ipython3",
   "version": "3.7.4"
  }
 },
 "nbformat": 4,
 "nbformat_minor": 2
}
