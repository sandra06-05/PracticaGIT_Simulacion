{
 "cells": [
  {
   "cell_type": "markdown",
   "metadata": {},
   "source": [
    "## Deber 1 - Cuadrados Medios\n",
    "<div style=\"text-align: right\"> _Por: S. Peñaranda J._ </div>\n",
    "\n",
    "Realizar un método que permita generar números pseudoaleatorios pro medio de los cuadrados medios"
   ]
  },
  {
   "cell_type": "code",
   "execution_count": 1,
   "metadata": {},
   "outputs": [],
   "source": [
    "#Importamos las librerias\n",
    "from tabulate import tabulate\n",
    "from prettytable import PrettyTable"
   ]
  },
  {
   "cell_type": "code",
   "execution_count": 2,
   "metadata": {},
   "outputs": [
    {
     "name": "stdout",
     "output_type": "stream",
     "text": [
      "Interaciones: 14\n",
      "Semilla: 26036\n",
      "Digitos: 5\n"
     ]
    }
   ],
   "source": [
    "##Creamos las variables y pedimos los datos necesarios\n",
    "iteraciones= int(input(\"Interaciones: \"))\n",
    "x0= int(input(\"Semilla: \"))\n",
    "digitos=int(input(\"Digitos: \"))\n",
    "xn=0\n",
    "dobleXn=0\n",
    "longitud=8\n",
    "ui=0\n",
    "rn=0"
   ]
  },
  {
   "cell_type": "code",
   "execution_count": 3,
   "metadata": {},
   "outputs": [
    {
     "name": "stdout",
     "output_type": "stream",
     "text": [
      "100000\n",
      "+-----------+-------+------------+-------+---------+\n",
      "| Iteracion |   Xn  |   Xn*Xn    |   Ui  |    Rn   |\n",
      "+-----------+-------+------------+-------+---------+\n",
      "|     0     | 26036 | 677873296  | 78732 | 0.78732 |\n",
      "|     1     | 78732 | 6198727824 | 98727 | 0.98727 |\n",
      "|     2     | 98727 | 9747020529 | 47020 |  0.4702 |\n",
      "|     3     | 47020 | 2210880400 | 10880 |  0.1088 |\n",
      "|     4     | 10880 | 118374400  | 83744 | 0.83744 |\n",
      "|     5     | 83744 | 7013057536 | 13057 | 0.13057 |\n",
      "|     6     | 13057 | 170485249  | 48524 | 0.48524 |\n",
      "|     7     | 48524 | 2354578576 | 54578 | 0.54578 |\n",
      "|     8     | 54578 | 2978758084 | 78758 | 0.78758 |\n",
      "|     9     | 78758 | 6202822564 | 28225 | 0.28225 |\n",
      "|     10    | 28225 | 796650625  | 66506 | 0.66506 |\n",
      "|     11    | 66506 | 4423048036 | 23048 | 0.23048 |\n",
      "|     12    | 23048 | 531210304  | 12103 | 0.12103 |\n",
      "|     13    | 12103 | 146482609  | 64826 | 0.64826 |\n",
      "+-----------+-------+------------+-------+---------+\n"
     ]
    }
   ],
   "source": [
    "#Creamos un \"metodo\" para que se cree el numero con el que se dividirá para generar el aleatorio\n",
    "numeroDividir = ''\n",
    "numeroDividir = numeroDividir.ljust(digitos,'0')\n",
    "numeroDividir='1'+numeroDividir\n",
    "print(numeroDividir)\n",
    "\n",
    "##Creamos la tabla e iniciamos el proceso\n",
    "tabla = PrettyTable()\n",
    "tabla.field_names =['Iteracion','Xn','Xn*Xn','Ui','Rn']\n",
    "x_0=x0\n",
    "for i in range(0,iteraciones):\n",
    "    xn=x_0\n",
    "    dobleXn=pow(xn,2)\n",
    "    longitud=(len(str(dobleXn)))\n",
    "    medio1=((longitud/2)-(digitos/2))\n",
    "    medio2=((longitud/2)+(digitos/2))\n",
    "    ui=(int(str(dobleXn)[int(medio1):int(medio2)]))\n",
    "    \n",
    "    if len(str(ui))<digitos:\n",
    "        medio1=((longitud/2)-(digitos/2))\n",
    "        medio2=((longitud/2)+(digitos/2)+1)\n",
    "        ui=(int(str(dobleXn)[int(medio1):int(medio2)]))        \n",
    "   \n",
    "    rn=(ui/int(numeroDividir))\n",
    "    x_0=ui\n",
    "    tabla.add_row([i,xn,dobleXn,ui,rn])\n",
    "print(tabla)"
   ]
  },
  {
   "cell_type": "markdown",
   "metadata": {},
   "source": [
    "## Conclusiones"
   ]
  },
  {
   "cell_type": "markdown",
   "metadata": {},
   "source": [
    "El método de los cuadrados medios, como se ve en este ejemplo es sencillo y rápido de realizar, con el se obtienen números rándomicos que estén entre 0 y 1."
   ]
  },
  {
   "cell_type": "markdown",
   "metadata": {},
   "source": [
    "## Recomendaciones"
   ]
  },
  {
   "cell_type": "markdown",
   "metadata": {},
   "source": [
    "Recordar que cuando no se pueden obtener los medios adecuados, debido a que el valor de (Xn * Xn) es un número impar, se tiene dos opciones como es la de agregar un 0 a la izquiera al valor de **Ui** o a su vez tomar el siguiente digito de la deracha como se hace en este ejemplo. "
   ]
  }
 ],
 "metadata": {
  "kernelspec": {
   "display_name": "Python 3",
   "language": "python",
   "name": "python3"
  },
  "language_info": {
   "codemirror_mode": {
    "name": "ipython",
    "version": 3
   },
   "file_extension": ".py",
   "mimetype": "text/x-python",
   "name": "python",
   "nbconvert_exporter": "python",
   "pygments_lexer": "ipython3",
   "version": "3.7.4"
  }
 },
 "nbformat": 4,
 "nbformat_minor": 2
}
