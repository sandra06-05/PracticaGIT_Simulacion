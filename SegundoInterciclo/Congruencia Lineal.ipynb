{
 "cells": [
  {
   "cell_type": "markdown",
   "metadata": {},
   "source": [
    "## Deber 2 - Congruencia Lineal\n",
    "<div style=\"text-align: right\"> _Por: S. Peñaranda J._ </div>\n",
    "\n",
    "Realizar un método que permita generar números pseudoaleatorios por el método de **Congruencia Lineal**"
   ]
  },
  {
   "cell_type": "code",
   "execution_count": 1,
   "metadata": {},
   "outputs": [],
   "source": [
    "#Importamos las librerias\n",
    "from tabulate import tabulate\n",
    "from prettytable import PrettyTable"
   ]
  },
  {
   "cell_type": "code",
   "execution_count": 2,
   "metadata": {},
   "outputs": [
    {
     "name": "stdout",
     "output_type": "stream",
     "text": [
      "Interaciones: 16\n",
      "a: 5\n",
      "c: 1\n",
      "m: 9\n",
      "Semilla: 1\n"
     ]
    }
   ],
   "source": [
    "##Creamos las variables y pedimos los datos necesarios\n",
    "iteraciones= int(input(\"Interaciones: \"))\n",
    "a=int(input(\"a: \"))\n",
    "c=int(input(\"c: \"))\n",
    "m=int(input(\"m: \"))\n",
    "x0= int(input(\"Semilla: \"))\n",
    "xn=0\n",
    "un=0\n",
    "xn_i=0\n",
    "un_i=0\n",
    "un=\" \""
   ]
  },
  {
   "cell_type": "code",
   "execution_count": 3,
   "metadata": {},
   "outputs": [
    {
     "name": "stdout",
     "output_type": "stream",
     "text": [
      "+-----------+----+--------------------+\n",
      "| Iteracion | Xn |         Un         |\n",
      "+-----------+----+--------------------+\n",
      "|     0     | 1  |                    |\n",
      "|     1     | 6  | 0.6666666666666666 |\n",
      "|     2     | 4  | 0.4444444444444444 |\n",
      "|     3     | 3  | 0.3333333333333333 |\n",
      "|     4     | 7  | 0.7777777777777778 |\n",
      "|     5     | 0  |        0.0         |\n",
      "|     6     | 1  | 0.1111111111111111 |\n",
      "|     7     | 6  | 0.6666666666666666 |\n",
      "|     8     | 4  | 0.4444444444444444 |\n",
      "|     9     | 3  | 0.3333333333333333 |\n",
      "|     10    | 7  | 0.7777777777777778 |\n",
      "|     11    | 0  |        0.0         |\n",
      "|     12    | 1  | 0.1111111111111111 |\n",
      "|     13    | 6  | 0.6666666666666666 |\n",
      "|     14    | 4  | 0.4444444444444444 |\n",
      "|     15    | 3  | 0.3333333333333333 |\n",
      "+-----------+----+--------------------+\n"
     ]
    }
   ],
   "source": [
    "tabla = PrettyTable()\n",
    "tabla.field_names =['Iteracion','Xn','Un']\n",
    "xn=x0\n",
    "for i in range(0,iteraciones):\n",
    "    xn_i = xn\n",
    "    un_i = un\n",
    "    xn=(a*xn+c)%m\n",
    "    un=xn/m\n",
    "    tabla.add_row([i,xn_i,un_i])\n",
    "print(tabla)"
   ]
  },
  {
   "cell_type": "markdown",
   "metadata": {},
   "source": [
    "## Conclusiones\n",
    "- Anteriormente se vio otro método, personalmente creo que este método es un poco mejor que el anterior debido a las fórmulas que se usan para obtener los números aleatorios"
   ]
  },
  {
   "cell_type": "markdown",
   "metadata": {},
   "source": [
    "## Recomendaciones\n",
    "- Antes de seleccionar una semilla, se debe tener en cuenta que los números pseudoaleatorios no deben repetirse constantemente, por ello se debe tener un número considerable de iteraciones.\n",
    "- No confundir el **mod** con la división."
   ]
  }
 ],
 "metadata": {
  "kernelspec": {
   "display_name": "Python 3",
   "language": "python",
   "name": "python3"
  },
  "language_info": {
   "codemirror_mode": {
    "name": "ipython",
    "version": 3
   },
   "file_extension": ".py",
   "mimetype": "text/x-python",
   "name": "python",
   "nbconvert_exporter": "python",
   "pygments_lexer": "ipython3",
   "version": "3.7.4"
  }
 },
 "nbformat": 4,
 "nbformat_minor": 2
}
