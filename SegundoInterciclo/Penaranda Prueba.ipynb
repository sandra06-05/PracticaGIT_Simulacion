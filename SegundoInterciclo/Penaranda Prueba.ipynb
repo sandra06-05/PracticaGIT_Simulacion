{
 "cells": [
  {
   "cell_type": "markdown",
   "metadata": {},
   "source": [
    "## Prueba Práctica - Números Pseudoaleatorios\n",
    "<div style=\"text-align: right\"> _Por: S. Peñaranda J._ </div>\n",
    "\n",
    "Realizar un método que permita generar números pseudoaleatorios pro medio de los cuadrados medios"
   ]
  },
  {
   "cell_type": "markdown",
   "metadata": {},
   "source": [
    "Se buscar encontrar la eficiencia de la generación de números pseudo-aletorios a través de los métodos de cuadrados medios y congruencia lineal, para ello se debe seguir el siguiente proceso:\n",
    "\n",
    "1. A traves de la misma api generar una semilla diferente. \n",
    "\n",
    "2. Encontrar el numero de iteraciones hasta que se repita uno de sus datos.\n",
    "\n",
    "3. Generar 100 simulaciones con diferentes semillas.\n",
    "\n",
    "4. Generar un histograma con el resultado obtenidos por cada método.\n",
    "\n",
    "5. Agregar sus conclusiones, opiniones y recomendaciones"
   ]
  },
  {
   "cell_type": "markdown",
   "metadata": {},
   "source": [
    "## Método de cuadrados medios"
   ]
  },
  {
   "cell_type": "code",
   "execution_count": 1,
   "metadata": {},
   "outputs": [
    {
     "name": "stdout",
     "output_type": "stream",
     "text": [
      "Interaciones: 1\n",
      "Semilla: 7543\n",
      "Digitos: 4\n",
      "10000\n",
      "+-----------+------+----------+------+--------+\n",
      "| Iteracion |  Xn  |  Xn*Xn   |  Ui  |   Rn   |\n",
      "+-----------+------+----------+------+--------+\n",
      "|     0     | 7543 | 56896849 | 8968 | 0.8968 |\n",
      "+-----------+------+----------+------+--------+\n"
     ]
    }
   ],
   "source": [
    "from tabulate import tabulate\n",
    "from prettytable import PrettyTable\n",
    "\n",
    "##Creamos las variables y pedimos los datos necesarios\n",
    "iteraciones= int(input(\"Interaciones: \"))\n",
    "x0= int(input(\"Semilla: \"))\n",
    "digitos=int(input(\"Digitos: \"))\n",
    "xn=0\n",
    "dobleXn=0\n",
    "longitud=8\n",
    "ui=0\n",
    "rn=0\n",
    "\n",
    "numeroDividir = ''\n",
    "numeroDividir = numeroDividir.ljust(digitos,'0')\n",
    "numeroDividir='1'+numeroDividir\n",
    "print(numeroDividir)\n",
    "\n",
    "##Creamos la tabla e iniciamos el proceso\n",
    "tabla = PrettyTable()\n",
    "tabla.field_names =['Iteracion','Xn','Xn*Xn','Ui','Rn']\n",
    "x_0=x0\n",
    "for i in range(0,iteraciones):\n",
    "    xn=x_0\n",
    "    dobleXn=pow(xn,2)\n",
    "    longitud=(len(str(dobleXn)))\n",
    "    medio1=((longitud/2)-(digitos/2))\n",
    "    medio2=((longitud/2)+(digitos/2))\n",
    "    ui=(int(str(dobleXn)[int(medio1):int(medio2)]))\n",
    "    \n",
    "    if len(str(ui))<digitos:\n",
    "        medio1=((longitud/2)-(digitos/2))\n",
    "        medio2=((longitud/2)+(digitos/2)+1)\n",
    "        ui=(int(str(dobleXn)[int(medio1):int(medio2)]))        \n",
    "   \n",
    "    rn=(ui/int(numeroDividir))\n",
    "    x_0=ui\n",
    "    tabla.add_row([i,xn,dobleXn,ui,rn])\n",
    "print(tabla)"
   ]
  },
  {
   "cell_type": "code",
   "execution_count": 8,
   "metadata": {},
   "outputs": [
    {
     "name": "stdout",
     "output_type": "stream",
     "text": [
      "[49, 48, 47, 46, 45, 44, 43, 42, 41, 40, 39, 38, 37, 36, 35, 34, 33, 32, 31, 30, 29, 28, 27, 26, 25, 24, 23, 22, 21, 20, 19, 18, 17, 16, 15, 14, 13, 12, 11, 10, 9, 8, 7, 6, 5, 4, 3, 2, 2, 2, 2, 2, 2, 2, 2, 2, 2, 2, 2, 2, 2, 2, 2, 2, 2, 2, 2, 2, 2, 2, 2, 2, 2, 2, 2, 2, 2, 2, 2, 2, 2, 2, 2, 2, 2, 2, 2, 2, 2, 2, 2, 2, 2, 2, 2, 2, 2, 2, 2, 2]\n"
     ]
    }
   ],
   "source": [
    "repeticion = []\n",
    "for k in range(0,100):\n",
    "    iteraciones = 1\n",
    "    uid = []\n",
    "    bandera = True\n",
    "    while bandera:\n",
    "        xn=x_0\n",
    "        dobleXn=pow(xn,2)\n",
    "        longitud=(len(str(dobleXn)))\n",
    "        medio1=((longitud/2)-(digitos/2))\n",
    "        medio2=((longitud/2)+(digitos/2))\n",
    "        ui=(int(str(dobleXn)[int(medio1):int(medio2)]))\n",
    "        if len(str(ui))<digitos:\n",
    "            medio1=((longitud/2)-(digitos/2))\n",
    "            medio2=((longitud/2)+(digitos/2)+1)\n",
    "            ui=(int(str(dobleXn)[int(medio1):int(medio2)]))        \n",
    "        rn=(ui/int(numeroDividir))\n",
    "        x_0=ui \n",
    "        if( iteraciones == 1 ):\n",
    "            uid.append(ui)\n",
    "            iteraciones = iteraciones + 1\n",
    "        else:\n",
    "            for x in range(0,len(uid)):\n",
    "                if(uid[x]==ui):\n",
    "                    repeticion.append(iteraciones)\n",
    "                    x_0 = int(uid[0])\n",
    "                    bandera = False\n",
    "            uid.append(ui)\n",
    "            iteraciones = iteraciones + 1\n",
    "print(repeticion)"
   ]
  },
  {
   "cell_type": "code",
   "execution_count": 9,
   "metadata": {},
   "outputs": [
    {
     "name": "stdout",
     "output_type": "stream",
     "text": [
      "{49: 1, 48: 1, 47: 1, 46: 1, 45: 1, 44: 1, 43: 1, 42: 1, 41: 1, 40: 1, 39: 1, 38: 1, 37: 1, 36: 1, 35: 1, 34: 1, 33: 1, 32: 1, 31: 1, 30: 1, 29: 1, 28: 1, 27: 1, 26: 1, 25: 1, 24: 1, 23: 1, 22: 1, 21: 1, 20: 1, 19: 1, 18: 1, 17: 1, 16: 1, 15: 1, 14: 1, 13: 1, 12: 1, 11: 1, 10: 1, 9: 1, 8: 1, 7: 1, 6: 1, 5: 1, 4: 1, 3: 1, 2: 53}\n"
     ]
    },
    {
     "data": {
      "image/png": "[encoded data removed]",
      "text/plain": [
       "<Figure size 432x288 with 1 Axes>"
      ]
     },
     "metadata": {
      "needs_background": "light"
     },
     "output_type": "display_data"
    }
   ],
   "source": [
    "import pylab as pl\n",
    "import numpy as np\n",
    "def contarElementosLista(lista):\n",
    "\n",
    "    return {i:lista.count(i) for i in lista}\n",
    "\n",
    "lista = repeticion\n",
    "\n",
    "resultado=contarElementosLista(lista)\n",
    "print(resultado)\n",
    "\n",
    "X = np.arange(len(resultado))\n",
    "fig = pl.figure()\n",
    "ax = fig.add_axes([0,0,1,1])\n",
    "pl.bar(X, resultado.values())\n",
    "pl.xticks(X, resultado.keys(), rotation = 90)\n",
    "pl.title(\"Cuadrados Medios\")\n",
    "ymax = max(resultado.values()) + 1\n",
    "pl.ylim(0, ymax)\n",
    "pl.show()"
   ]
  },
  {
   "cell_type": "markdown",
   "metadata": {},
   "source": [
    "## Alterando la nueva semilla de otra forma"
   ]
  },
  {
   "cell_type": "code",
   "execution_count": 10,
   "metadata": {},
   "outputs": [
    {
     "name": "stdout",
     "output_type": "stream",
     "text": [
      "[3, 3, 4, 17, 15, 113, 24, 16, 103, 47, 8, 7, 76, 13, 52, 49, 51, 93, 89, 50, 9, 120, 79, 7, 13, 39, 14, 69, 80, 79, 18, 17, 7, 25, 9, 62, 111, 85, 19, 81, 9, 28, 28, 103, 118, 56, 27, 67, 23, 10, 12, 20, 21, 11, 14, 28, 124, 6, 88, 5, 9, 97, 24, 24, 70, 62, 49, 80, 38, 103, 49, 61, 74, 84, 21, 17, 35, 108, 78, 102, 94, 77, 27, 43, 97, 102, 20, 7, 28, 13, 117, 70, 20, 63, 9, 10, 101, 87, 28, 26, 115]\n"
     ]
    }
   ],
   "source": [
    "repeticionL = []\n",
    "for k in range(0,100):\n",
    "    iteraciones = 1\n",
    "    uid = []\n",
    "    bandera = True\n",
    "    while bandera:\n",
    "        xn=x_0\n",
    "        dobleXn=pow(xn,2)\n",
    "        longitud=(len(str(dobleXn)))\n",
    "        medio1=((longitud/2)-(digitos/2))\n",
    "        medio2=((longitud/2)+(digitos/2))\n",
    "        ui=(int(str(dobleXn)[int(medio1):int(medio2)]))\n",
    "        if len(str(ui))<digitos:\n",
    "            medio1=((longitud/2)-(digitos/2))\n",
    "            medio2=((longitud/2)+(digitos/2)+1)\n",
    "            ui=(int(str(dobleXn)[int(medio1):int(medio2)]))        \n",
    "        rn=(ui/int(numeroDividir))\n",
    "        x_0=ui \n",
    "        if( iteraciones == 1 ):\n",
    "            uid.append(ui)\n",
    "            iteraciones = iteraciones + 1\n",
    "        else:\n",
    "            for x in range(0,len(uid)):\n",
    "                if(uid[x]==ui):\n",
    "                    repeticionL.append(iteraciones)\n",
    "                    x_0 = int(uid[0])+10-3\n",
    "                    bandera = False\n",
    "        uid.append(ui)\n",
    "        iteraciones = iteraciones + 1\n",
    "print(repeticionL)"
   ]
  },
  {
   "cell_type": "code",
   "execution_count": 11,
   "metadata": {},
   "outputs": [
    {
     "name": "stdout",
     "output_type": "stream",
     "text": [
      "{49: 1, 48: 1, 47: 1, 46: 1, 45: 1, 44: 1, 43: 1, 42: 1, 41: 1, 40: 1, 39: 1, 38: 1, 37: 1, 36: 1, 35: 1, 34: 1, 33: 1, 32: 1, 31: 1, 30: 1, 29: 1, 28: 1, 27: 1, 26: 1, 25: 1, 24: 1, 23: 1, 22: 1, 21: 1, 20: 1, 19: 1, 18: 1, 17: 1, 16: 1, 15: 1, 14: 1, 13: 1, 12: 1, 11: 1, 10: 1, 9: 1, 8: 1, 7: 1, 6: 1, 5: 1, 4: 1, 3: 1, 2: 53}\n"
     ]
    },
    {
     "data": {
      "image/png": "[encoded data removed]",
      "text/plain": [
       "<Figure size 432x288 with 1 Axes>"
      ]
     },
     "metadata": {
      "needs_background": "light"
     },
     "output_type": "display_data"
    }
   ],
   "source": [
    "import pylab as pl\n",
    "import numpy as np\n",
    "def contarElementosLista(lista):\n",
    "\n",
    "    return {i:lista.count(i) for i in lista}\n",
    "\n",
    "lista = repeticionL\n",
    "print(resultado)\n",
    "\n",
    "resultado=contarElementosLista(lista)\n",
    "\n",
    "X = np.arange(len(resultado))\n",
    "fig = pl.figure()\n",
    "ax = fig.add_axes([0,0,1,1])\n",
    "pl.bar(X, resultado.values(), align='center')\n",
    "pl.xticks(X, resultado.keys(), rotation = 90)\n",
    "pl.title(\"Cuadrados Medios\")\n",
    "ymax = max(resultado.values()) + 1\n",
    "pl.ylim(0, ymax)\n",
    "pl.show()"
   ]
  },
  {
   "cell_type": "markdown",
   "metadata": {},
   "source": [
    "## Método de congruencia lineal"
   ]
  },
  {
   "cell_type": "code",
   "execution_count": 12,
   "metadata": {},
   "outputs": [
    {
     "name": "stdout",
     "output_type": "stream",
     "text": [
      "[513, 7, 9, 131, 241, 127, 265, 55, 33, 137, 265, 47, 113, 139, 281, 31, 577, 29, 73, 295, 49, 75, 25, 151, 289, 37, 57, 31, 49, 157, 105, 157, 129, 155, 649, 163, 81, 31, 329, 167, 673, 79, 9, 19, 49, 87, 169, 15, 321, 175, 89, 179, 145, 91, 169, 61, 33, 13, 121, 5, 369, 379, 73, 191, 769, 193, 97, 7, 785, 99, 361, 67, 33, 67, 201, 29, 49, 21, 409, 199, 193, 91, 169, 15, 209, 211, 425, 7, 865, 211, 9, 19, 81, 13, 25, 75, 897, 19, 57, 227]\n"
     ]
    }
   ],
   "source": [
    "#321, 5, 1, 512\n",
    "a=5\n",
    "c=1\n",
    "x0=321\n",
    "m=512\n",
    "repeticionCL=[]\n",
    "for k in range(0,100):\n",
    "    iteraciones=1\n",
    "    uidCL=[]\n",
    "    xn=0\n",
    "    ui=0.0\n",
    "    axiliar=0\n",
    "    bandera= True\n",
    "    xn=x0\n",
    "    while bandera:\n",
    "        axiliar=((a*xn)+c)%(m)\n",
    "        ui=axiliar/m\n",
    "        xn=axiliar\n",
    "        if (iteraciones==1):\n",
    "            uidCL.append(ui)\n",
    "            iteraciones=iteraciones+1\n",
    "        else:\n",
    "            for x in range(0,len(uidCL)):\n",
    "                if (uidCL[x]==ui):\n",
    "                    repeticionCL.append(iteraciones)\n",
    "                    x0=int(xn)\n",
    "                    a=a+2\n",
    "                    c=c+1\n",
    "                    m=m+4\n",
    "                    bandera=False\n",
    "            uidCL.append(ui)\n",
    "            iteraciones=iteraciones+1\n",
    "print(repeticionCL)       "
   ]
  },
  {
   "cell_type": "code",
   "execution_count": 13,
   "metadata": {},
   "outputs": [
    {
     "name": "stdout",
     "output_type": "stream",
     "text": [
      "{513: 1, 7: 3, 9: 3, 131: 1, 241: 1, 127: 1, 265: 2, 55: 1, 33: 3, 137: 1, 47: 1, 113: 1, 139: 1, 281: 1, 31: 3, 577: 1, 29: 2, 73: 2, 295: 1, 49: 4, 75: 2, 25: 2, 151: 1, 289: 1, 37: 1, 57: 2, 157: 2, 105: 1, 129: 1, 155: 1, 649: 1, 163: 1, 81: 2, 329: 1, 167: 1, 673: 1, 79: 1, 19: 3, 87: 1, 169: 3, 15: 2, 321: 1, 175: 1, 89: 1, 179: 1, 145: 1, 91: 2, 61: 1, 13: 2, 121: 1, 5: 1, 369: 1, 379: 1, 191: 1, 769: 1, 193: 2, 97: 1, 785: 1, 99: 1, 361: 1, 67: 2, 201: 1, 21: 1, 409: 1, 199: 1, 209: 1, 211: 2, 425: 1, 865: 1, 897: 1, 227: 1}\n"
     ]
    },
    {
     "data": {
      "image/png": "[encoded data removed]",
      "text/plain": [
       "<Figure size 432x288 with 1 Axes>"
      ]
     },
     "metadata": {
      "needs_background": "light"
     },
     "output_type": "display_data"
    }
   ],
   "source": [
    "def contarElementosLista(listaCL):\n",
    "\n",
    "    return {i:listaCL.count(i) for i in listaCL}\n",
    "\n",
    "listaCL = repeticionCL\n",
    "resultadoCL=contarElementosLista(listaCL)\n",
    "print(resultadoCL)\n",
    "\n",
    "import pylab as pl\n",
    "import numpy as np\n",
    "\n",
    "X = np.arange(len(resultadoCL))\n",
    "fig = pl.figure()\n",
    "ax = fig.add_axes([0,0,1,1])\n",
    "pl.bar(X, resultadoCL.values(), align='center', width=0.5)\n",
    "pl.xticks(X, resultadoCL.keys(), rotation = 90)\n",
    "pl.title(\"Congruencia Lineal\")\n",
    "ymax = max(resultadoCL.values()) + 1\n",
    "pl.ylim(0, ymax)\n",
    "pl.show()"
   ]
  },
  {
   "cell_type": "markdown",
   "metadata": {},
   "source": [
    "## Conclusiones\n",
    "+ Como se observa en cada uno de los histogramas podemos ver que en el primer método la semilla tendrá mucho que ver con los resultados que se esperan, puesto que en el primer ejemplo se trabaja con una secuencia de semilla, pero en el segundo ejemplo se altera un poco la semilla por tanto los resultados como muestra la gráfica son mucho mejores que los primeros.\n",
    "+ Para con el segundo método es un poco mas sencillo el proceso por parte de la semilla, pero se debe tener en cuenta que existen otras variables que intervienen en el proceso, mismas que con una nueva semilla deberían cambiar para un mejor resultado.\n",
    "\n",
    "## Opiniones \n",
    "+ Cada método tiene su forma de encontrar números aleatorios, creo que se puede usar cada método según se necesita, ya que a mi parece el segundo método al tener mas variables que interactuan es mejor para la generación de estos números, sin embargo el primer método será óptimo siempre y cuando la semilla sea **la mejor**.\n",
    "\n",
    "## Recomendaciones \n",
    "+ Seleccionar una semilla adecuada para iniciar el proceso, para de esta manera evitar que los números que el método genere se repitan ciclicamente luego de mínimas iteraciones.\n",
    "+ En caso de usar un método para la generación de una semilla, probarlo con un número considerable de iteraciones para de esta manera saber que tanto se repiten los números a la hora de ser generados y hacer uso de estos.\n",
    "+ Para elegir una semilla se puede usar la hora del ordenador, o tambien la temperatura del CPU entre otros elementos."
   ]
  }
 ],
 "metadata": {
  "kernelspec": {
   "display_name": "Python 3",
   "language": "python",
   "name": "python3"
  },
  "language_info": {
   "codemirror_mode": {
    "name": "ipython",
    "version": 3
   },
   "file_extension": ".py",
   "mimetype": "text/x-python",
   "name": "python",
   "nbconvert_exporter": "python",
   "pygments_lexer": "ipython3",
   "version": "3.7.4"
  }
 },
 "nbformat": 4,
 "nbformat_minor": 2
}
