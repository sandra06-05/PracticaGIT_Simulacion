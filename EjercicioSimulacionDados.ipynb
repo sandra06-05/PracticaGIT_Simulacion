{
 "cells": [
  {
   "cell_type": "markdown",
   "metadata": {},
   "source": [
    "# Tarea 2:\n",
    "Generar dos números pseudoaleatorios (dados), sumar los numeros y generar una tabla que muestre la suma, frecuencia y probabilidad. "
   ]
  },
  {
   "cell_type": "markdown",
   "metadata": {},
   "source": [
    "Ejercicios con la librería random"
   ]
  },
  {
   "cell_type": "code",
   "execution_count": 186,
   "metadata": {},
   "outputs": [
    {
     "name": "stdout",
     "output_type": "stream",
     "text": [
      "Suma    |  Frecuencia  |  Probabilidad\n",
      "2           1              0.01\n",
      "3           2              0.02\n",
      "4           8              0.08\n",
      "5           12              0.12\n",
      "6           13              0.13\n",
      "7           18              0.18\n",
      "8           13              0.13\n",
      "9           9              0.09\n",
      "10           13              0.13\n",
      "11           11              0.11\n"
     ]
    }
   ],
   "source": [
    "import random\n",
    "#Ejercicio con 100 lanzamientos\n",
    "lista = []\n",
    "suma = 0\n",
    "lis = []\n",
    "print(\"Suma    |  Frecuencia  |  Probabilidad\")\n",
    "for i in range(100):\n",
    "    dado1 = random.randint(1, 6)\n",
    "    dado2 = random.randint(1, 6)\n",
    "    suma = dado1+dado2\n",
    "    lista.append(suma)\n",
    "for k in lista:\n",
    "    if k not in lis:\n",
    "        lis.append(k)\n",
    "        lis = sorted(lis)\n",
    "#print(lista)            \n",
    "for j in range(len(lis)):\n",
    "    print(lis[j], \"         \", lista.count(lis[j]), \"            \", lista.count(lis[j])/100)"
   ]
  },
  {
   "cell_type": "code",
   "execution_count": 187,
   "metadata": {},
   "outputs": [
    {
     "name": "stdout",
     "output_type": "stream",
     "text": [
      "Suma    |  Frecuencia  |  Probabilidad\n",
      "2           33              0.033\n",
      "3           52              0.052\n",
      "4           87              0.087\n",
      "5           111              0.111\n",
      "6           142              0.142\n",
      "7           176              0.176\n",
      "8           128              0.128\n",
      "9           103              0.103\n",
      "10           85              0.085\n",
      "11           60              0.06\n",
      "12           23              0.023\n"
     ]
    }
   ],
   "source": [
    "import random\n",
    "#Ejercicio con 1000 lanzamientos\n",
    "lista = []\n",
    "suma = 0\n",
    "lis = []\n",
    "print(\"Suma    |  Frecuencia  |  Probabilidad\")\n",
    "for i in range(1000):\n",
    "    dado1 = random.randint(1, 6)\n",
    "    dado2 = random.randint(1, 6)\n",
    "    suma = dado1+dado2\n",
    "    lista.append(suma)\n",
    "for k in lista:\n",
    "    if k not in lis:\n",
    "        lis.append(k)\n",
    "        lis = sorted(lis)          \n",
    "for j in range(len(lis)):\n",
    "    print(lis[j], \"         \", lista.count(lis[j]), \"            \", lista.count(lis[j])/1000)"
   ]
  },
  {
   "cell_type": "code",
   "execution_count": 200,
   "metadata": {},
   "outputs": [
    {
     "name": "stdout",
     "output_type": "stream",
     "text": [
      "Suma    |  Frecuencia  |  Probabilidad\n",
      "2           282              0.0282\n",
      "3           568              0.0568\n",
      "4           839              0.0839\n",
      "5           1094              0.1094\n",
      "6           1368              0.1368\n",
      "7           1714              0.1714\n",
      "8           1391              0.1391\n",
      "9           1124              0.1124\n",
      "10           830              0.083\n",
      "11           542              0.0542\n",
      "12           248              0.0248\n"
     ]
    }
   ],
   "source": [
    "import random\n",
    "#Ejercicio con 10000 lanzamientos\n",
    "lista = []\n",
    "suma = 0\n",
    "lis = []\n",
    "print(\"Suma    |  Frecuencia  |  Probabilidad\")\n",
    "for i in range(10000):\n",
    "    dado1 = random.randint(1, 6)\n",
    "    dado2 = random.randint(1, 6)\n",
    "    suma = dado1+dado2\n",
    "    lista.append(suma)\n",
    "for k in lista:\n",
    "    if k not in lis:\n",
    "        lis.append(k)\n",
    "        lis = sorted(lis)\n",
    "for j in range(len(lis)):\n",
    "    print(lis[j], \"         \", lista.count(lis[j]), \"            \", lista.count(lis[j])/10000)"
   ]
  },
  {
   "cell_type": "markdown",
   "metadata": {},
   "source": [
    "Mismo ejercicio pero ahora con una libreria diferente a la random, en este caso numpy"
   ]
  },
  {
   "cell_type": "code",
   "execution_count": 198,
   "metadata": {},
   "outputs": [
    {
     "name": "stdout",
     "output_type": "stream",
     "text": [
      "Suma    |  Frecuencia  |  Probabilidad\n",
      "2           6              0.06\n",
      "3           5              0.05\n",
      "4           13              0.13\n",
      "5           13              0.13\n",
      "6           11              0.11\n",
      "7           14              0.14\n",
      "8           11              0.11\n",
      "9           9              0.09\n",
      "10           10              0.1\n",
      "11           5              0.05\n",
      "12           3              0.03\n"
     ]
    }
   ],
   "source": [
    "#Ejercicio con 100 lanzamientos\n",
    "import numpy as np\n",
    "lista = []\n",
    "suma = 0\n",
    "lis = []\n",
    "print(\"Suma    |  Frecuencia  |  Probabilidad\")\n",
    "for i in range(100):\n",
    "    dado1 = np.random.randint(1, 7)\n",
    "    dado2 = np.random.randint(1, 7)\n",
    "    suma = dado1+dado2\n",
    "    lista.append(suma)\n",
    "for k in lista:\n",
    "    if k not in lis:\n",
    "        lis.append(k)\n",
    "        lis = sorted(lis)\n",
    "for j in lis:\n",
    "    print(j, \"         \", lista.count(j), \"            \", lista.count(j)/100)"
   ]
  },
  {
   "cell_type": "code",
   "execution_count": 196,
   "metadata": {},
   "outputs": [
    {
     "name": "stdout",
     "output_type": "stream",
     "text": [
      "Suma    |  Frecuencia  |  Probabilidad\n",
      "2           30              0.03\n",
      "3           45              0.045\n",
      "4           84              0.084\n",
      "5           109              0.109\n",
      "6           149              0.149\n",
      "7           172              0.172\n",
      "8           158              0.158\n",
      "9           113              0.113\n",
      "10           64              0.064\n",
      "11           44              0.044\n",
      "12           32              0.032\n"
     ]
    }
   ],
   "source": [
    "#Ejercicio con 1000 lanzamientos\n",
    "import numpy as np\n",
    "lista = []\n",
    "suma = 0\n",
    "lis = []\n",
    "print(\"Suma    |  Frecuencia  |  Probabilidad\")\n",
    "for i in range(1000):\n",
    "    dado1 = np.random.randint(1, 7)\n",
    "    dado2 = np.random.randint(1, 7)\n",
    "    suma = dado1+dado2\n",
    "    lista.append(suma)\n",
    "for k in lista:\n",
    "    if k not in lis:\n",
    "        lis.append(k)\n",
    "        lis = sorted(lis)\n",
    "for j in lis:\n",
    "    print(j, \"         \", lista.count(j), \"            \", lista.count(j)/1000)"
   ]
  },
  {
   "cell_type": "code",
   "execution_count": 197,
   "metadata": {},
   "outputs": [
    {
     "name": "stdout",
     "output_type": "stream",
     "text": [
      "Suma    |  Frecuencia  |  Probabilidad\n",
      "2           283              0.0283\n",
      "3           571              0.0571\n",
      "4           828              0.0828\n",
      "5           1140              0.114\n",
      "6           1366              0.1366\n",
      "7           1726              0.1726\n",
      "8           1272              0.1272\n",
      "9           1113              0.1113\n",
      "10           867              0.0867\n",
      "11           562              0.0562\n",
      "12           272              0.0272\n"
     ]
    }
   ],
   "source": [
    "#Ejercicio con 10000 lanzamientos\n",
    "import numpy as np\n",
    "lista = []\n",
    "suma = 0\n",
    "lis = []\n",
    "print(\"Suma    |  Frecuencia  |  Probabilidad\")\n",
    "for i in range(10000):\n",
    "    dado1 = np.random.randint(1, 7)\n",
    "    dado2 = np.random.randint(1, 7)\n",
    "    suma = dado1+dado2\n",
    "    lista.append(suma)\n",
    "for k in lista:\n",
    "    if k not in lis:\n",
    "        lis.append(k)\n",
    "        lis = sorted(lis)\n",
    "for j in lis:\n",
    "    print(j, \"         \", lista.count(j), \"            \", lista.count(j)/10000)"
   ]
  },
  {
   "cell_type": "markdown",
   "metadata": {},
   "source": [
    "##### Conclusiones:\n",
    "+ Se hace uso de dos librerias como son random y numpy, básicamente son las mismas pero cabe resaltar una diferencia entre ellas que es cuando se manda a generar el número aleatorio, los rangos no son los mismo ya que con la librería numpy se debe poner un número mas que el último que se desea generar, es decir si se desea de 1 a 6 se debe poner de 1 a 7 para que se tome en cuenta al 6.\n",
    "+ Como podemos ver según los resultados que se obtiene independientemente de la cantidad de lanzamientos que se haga a los dados, el numero 7 siempre tiene una probabilidad más alta de ganar, ya que más combinaciones son posibles para crear ese número."
   ]
  }
 ],
 "metadata": {
  "kernelspec": {
   "display_name": "Python 3",
   "language": "python",
   "name": "python3"
  },
  "language_info": {
   "codemirror_mode": {
    "name": "ipython",
    "version": 3
   },
   "file_extension": ".py",
   "mimetype": "text/x-python",
   "name": "python",
   "nbconvert_exporter": "python",
   "pygments_lexer": "ipython3",
   "version": "3.7.4"
  }
 },
 "nbformat": 4,
 "nbformat_minor": 2
}
